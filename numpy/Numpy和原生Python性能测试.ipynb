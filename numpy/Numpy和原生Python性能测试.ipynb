{
 "cells": [
  {
   "cell_type": "code",
   "execution_count": 3,
   "id": "c7a6b0ae",
   "metadata": {},
   "outputs": [],
   "source": [
    "import numpy as np"
   ]
  },
  {
   "cell_type": "code",
   "execution_count": 4,
   "id": "9a711531",
   "metadata": {},
   "outputs": [],
   "source": [
    "import time"
   ]
  },
  {
   "cell_type": "markdown",
   "id": "adcb4b18",
   "metadata": {},
   "source": [
    "# 原生实现"
   ]
  },
  {
   "cell_type": "code",
   "execution_count": 5,
   "id": "67b91f44",
   "metadata": {},
   "outputs": [
    {
     "data": {
      "text/plain": [
       "'1.24.3'"
      ]
     },
     "execution_count": 5,
     "metadata": {},
     "output_type": "execute_result"
    }
   ],
   "source": [
    "np.__version__"
   ]
  },
  {
   "cell_type": "code",
   "execution_count": 6,
   "id": "fccce6c4",
   "metadata": {},
   "outputs": [],
   "source": [
    "def python_sum(n): \n",
    "    #使用原生Python实现两个数组的加法\n",
    "    a = [i**2 for i in range(n)] # 使用列表生成创建1到n的平方\n",
    "    b = [i**3 for i in range(n)] # 使用列表生成创建1到n的立方\n",
    "    # 创建新的列表\n",
    "    ab_sum = []\n",
    "    for i in range(n):\n",
    "        ab_sum.append(a[i] + b[i])\n",
    "    return ab_sum"
   ]
  },
  {
   "cell_type": "code",
   "execution_count": 7,
   "id": "8a80450a",
   "metadata": {},
   "outputs": [
    {
     "data": {
      "text/plain": [
       "[0, 2, 12, 36, 80, 150, 252, 392, 576, 810]"
      ]
     },
     "execution_count": 7,
     "metadata": {},
     "output_type": "execute_result"
    }
   ],
   "source": [
    "python_sum(10)"
   ]
  },
  {
   "cell_type": "markdown",
   "id": "2174a770",
   "metadata": {},
   "source": [
    "# numpy实现"
   ]
  },
  {
   "cell_type": "markdown",
   "id": "03a378ce",
   "metadata": {},
   "source": [
    "### arrange函数\n",
    "np.arange([start, ]stop, [step, ]dtype=None)\n",
    "\n",
    "参数解释：\n",
    "- start:起点值；可忽略不写，默认从0开始\n",
    "- stop:终点值；生成的元素不包括结束值\n",
    "- step:步长；可忽略不写，默认步长为1\n",
    "- dtype:默认为None，设置显示元素的数据类型\n",
    "    \n",
    "不同参数个数情况介绍：\n",
    "- 一个参数时，参数值为终点值，起点取默认值0，步长取默认值1。\n",
    "- 两个参数时，第一个参数为起点值，第二个参数为终点，步长取默认值1。\n",
    "- 三个参数时，第一个参数为起点，第二个参数为终点，第三个参数为步长，其中步长支持小数。"
   ]
  },
  {
   "cell_type": "code",
   "execution_count": 8,
   "id": "08eef896",
   "metadata": {},
   "outputs": [],
   "source": [
    "def numpy_sum(n):\n",
    "    # numpy实现两个数组加法\n",
    "    a = np.arange(n) ** 2\n",
    "    b = np.arange(n) ** 3\n",
    "    return a + b"
   ]
  },
  {
   "cell_type": "code",
   "execution_count": 9,
   "id": "dfcfb7cc",
   "metadata": {},
   "outputs": [
    {
     "data": {
      "text/plain": [
       "array([  0,   2,  12,  36,  80, 150, 252, 392, 576, 810])"
      ]
     },
     "execution_count": 9,
     "metadata": {},
     "output_type": "execute_result"
    }
   ],
   "source": [
    "numpy_sum(10)"
   ]
  },
  {
   "cell_type": "markdown",
   "id": "253ac750",
   "metadata": {},
   "source": [
    "## 对比实现1000次"
   ]
  },
  {
   "cell_type": "markdown",
   "id": "1d42a565",
   "metadata": {},
   "source": [
    "### %time && %timeit 用法\n",
    "1、%time、%timeit、%%time、%%timeit的比较\n",
    "\n",
    "%time： 在行模式下，代码运行一次所花费的时间。\n",
    "%%time：在单元模式下，代码运行一次所花费的时间。\n",
    "\n",
    "%timeit： 在行模式下，执行代码块若干次，取最佳结果。\n",
    "%%timeit： 在单元模式下，执行代码块若干次，取最佳结果。\n",
    "\n",
    "### 注解：\n",
    "\n",
    "- 行模式： 只对紧跟其后的代码进行测试。即无法使用换行符来添加代码块进行测试。\n",
    "\n",
    "- 单元模式： 用于代码块的测试。它不仅对紧跟其后的代码发挥作用，通过换行符添加的其余代码，会被视为一个整体进行测试。其中，第一行代码用作设置代码（已执行但未计时），并且单元的主体已计时。单元主体可以访问在设置代码中创建的任何变量。"
   ]
  },
  {
   "cell_type": "code",
   "execution_count": 10,
   "id": "19b8b9b3",
   "metadata": {},
   "outputs": [
    {
     "name": "stdout",
     "output_type": "stream",
     "text": [
      "321 µs ± 1.63 µs per loop (mean ± std. dev. of 7 runs, 1,000 loops each)\n"
     ]
    }
   ],
   "source": [
    "%timeit python_sum(1000)"
   ]
  },
  {
   "cell_type": "code",
   "execution_count": 11,
   "id": "751fe785",
   "metadata": {},
   "outputs": [
    {
     "name": "stdout",
     "output_type": "stream",
     "text": [
      "3.62 µs ± 18.6 ns per loop (mean ± std. dev. of 7 runs, 100,000 loops each)\n"
     ]
    }
   ],
   "source": [
    "%timeit numpy_sum(1000)"
   ]
  },
  {
   "cell_type": "markdown",
   "id": "d7c851c2",
   "metadata": {},
   "source": [
    "## 对比实现10w次"
   ]
  },
  {
   "cell_type": "code",
   "execution_count": 12,
   "id": "828dc834",
   "metadata": {},
   "outputs": [
    {
     "name": "stdout",
     "output_type": "stream",
     "text": [
      "34.4 ms ± 81.5 µs per loop (mean ± std. dev. of 7 runs, 10 loops each)\n"
     ]
    }
   ],
   "source": [
    "%timeit python_sum(100000)"
   ]
  },
  {
   "cell_type": "code",
   "execution_count": 13,
   "id": "da782d4a",
   "metadata": {},
   "outputs": [
    {
     "name": "stdout",
     "output_type": "stream",
     "text": [
      "244 µs ± 25.7 µs per loop (mean ± std. dev. of 7 runs, 1,000 loops each)\n"
     ]
    }
   ],
   "source": [
    "%timeit numpy_sum(100000)"
   ]
  },
  {
   "cell_type": "markdown",
   "id": "2732cee2",
   "metadata": {},
   "source": [
    "## 对比实现100w次"
   ]
  },
  {
   "cell_type": "code",
   "execution_count": 14,
   "id": "9432b0f9",
   "metadata": {},
   "outputs": [
    {
     "name": "stdout",
     "output_type": "stream",
     "text": [
      "358 ms ± 2.51 ms per loop (mean ± std. dev. of 7 runs, 1 loop each)\n"
     ]
    }
   ],
   "source": [
    "%timeit python_sum(1000000)"
   ]
  },
  {
   "cell_type": "code",
   "execution_count": 15,
   "id": "39b571bd",
   "metadata": {},
   "outputs": [
    {
     "name": "stdout",
     "output_type": "stream",
     "text": [
      "3.31 ms ± 323 µs per loop (mean ± std. dev. of 7 runs, 100 loops each)\n"
     ]
    }
   ],
   "source": [
    "%timeit numpy_sum(1000000)"
   ]
  },
  {
   "cell_type": "code",
   "execution_count": 16,
   "id": "edcdcca1",
   "metadata": {},
   "outputs": [],
   "source": [
    "import pandas as pd"
   ]
  },
  {
   "cell_type": "code",
   "execution_count": 17,
   "id": "5e4df047",
   "metadata": {},
   "outputs": [],
   "source": [
    "python_times = [320, 34.5*1000, 357*1000]\n",
    "numpy_times = [3.65, 260, 3.53*1000]"
   ]
  },
  {
   "cell_type": "code",
   "execution_count": 18,
   "id": "8855f6da",
   "metadata": {},
   "outputs": [],
   "source": [
    "#创建pandas的DataFrame类型数据\n",
    "charts_data = pd.DataFrame({\n",
    "    'python_times': python_times,\n",
    "    'numpy_times': numpy_times\n",
    "})"
   ]
  },
  {
   "cell_type": "code",
   "execution_count": 19,
   "id": "f83a14bd",
   "metadata": {},
   "outputs": [
    {
     "data": {
      "text/html": [
       "<div>\n",
       "<style scoped>\n",
       "    .dataframe tbody tr th:only-of-type {\n",
       "        vertical-align: middle;\n",
       "    }\n",
       "\n",
       "    .dataframe tbody tr th {\n",
       "        vertical-align: top;\n",
       "    }\n",
       "\n",
       "    .dataframe thead th {\n",
       "        text-align: right;\n",
       "    }\n",
       "</style>\n",
       "<table border=\"1\" class=\"dataframe\">\n",
       "  <thead>\n",
       "    <tr style=\"text-align: right;\">\n",
       "      <th></th>\n",
       "      <th>python_times</th>\n",
       "      <th>numpy_times</th>\n",
       "    </tr>\n",
       "  </thead>\n",
       "  <tbody>\n",
       "    <tr>\n",
       "      <th>0</th>\n",
       "      <td>320.0</td>\n",
       "      <td>3.65</td>\n",
       "    </tr>\n",
       "    <tr>\n",
       "      <th>1</th>\n",
       "      <td>34500.0</td>\n",
       "      <td>260.00</td>\n",
       "    </tr>\n",
       "    <tr>\n",
       "      <th>2</th>\n",
       "      <td>357000.0</td>\n",
       "      <td>3530.00</td>\n",
       "    </tr>\n",
       "  </tbody>\n",
       "</table>\n",
       "</div>"
      ],
      "text/plain": [
       "   python_times  numpy_times\n",
       "0         320.0         3.65\n",
       "1       34500.0       260.00\n",
       "2      357000.0      3530.00"
      ]
     },
     "execution_count": 19,
     "metadata": {},
     "output_type": "execute_result"
    }
   ],
   "source": [
    "charts_data"
   ]
  },
  {
   "cell_type": "code",
   "execution_count": 20,
   "id": "e52f3113",
   "metadata": {},
   "outputs": [
    {
     "data": {
      "text/plain": [
       "<Axes: >"
      ]
     },
     "execution_count": 20,
     "metadata": {},
     "output_type": "execute_result"
    },
    {
     "data": {
      "image/png": "[encoded data removed]",
      "text/plain": [
       "<Figure size 640x480 with 1 Axes>"
      ]
     },
     "metadata": {},
     "output_type": "display_data"
    }
   ],
   "source": [
    "charts_data.plot() # 线性图"
   ]
  },
  {
   "cell_type": "code",
   "execution_count": 21,
   "id": "260cb5a6",
   "metadata": {},
   "outputs": [
    {
     "data": {
      "text/plain": [
       "<Axes: >"
      ]
     },
     "execution_count": 21,
     "metadata": {},
     "output_type": "execute_result"
    },
    {
     "data": {
      "image/png": "[encoded data removed]",
      "text/plain": [
       "<Figure size 640x480 with 1 Axes>"
      ]
     },
     "metadata": {},
     "output_type": "display_data"
    }
   ],
   "source": [
    "charts_data.plot.bar() # 柱状图"
   ]
  },
  {
   "cell_type": "code",
   "execution_count": 23,
   "id": "7125557b",
   "metadata": {},
   "outputs": [
    {
     "data": {
      "text/plain": [
       "515377520732011331036461129765621272702107522001"
      ]
     },
     "execution_count": 23,
     "metadata": {},
     "output_type": "execute_result"
    }
   ],
   "source": [
    "3 ** 100"
   ]
  },
  {
   "cell_type": "code",
   "execution_count": null,
   "id": "2fdf176a",
   "metadata": {},
   "outputs": [],
   "source": [
    "import sys\n",
    "print(sys.version)\n",
    "print(sys.executable)"
   ]
  }
 ],
 "metadata": {
  "kernelspec": {
   "display_name": "Python(numpy_learning)",
   "language": "python",
   "name": "numpy_learning"
  },
  "language_info": {
   "codemirror_mode": {
    "name": "ipython",
    "version": 3
   },
   "file_extension": ".py",
   "mimetype": "text/x-python",
   "name": "python",
   "nbconvert_exporter": "python",
   "pygments_lexer": "ipython3",
   "version": "3.8.17"
  }
 },
 "nbformat": 4,
 "nbformat_minor": 5
}
