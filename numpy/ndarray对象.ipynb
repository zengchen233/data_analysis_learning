{
 "cells": [
  {
   "cell_type": "markdown",
   "id": "c9d791cd",
   "metadata": {},
   "source": [
    "# Numpy ndarray对象\n",
    "\n",
    "- `numpy`定义了一个n维数组对象，简称`ndarray`对象，它是一个一系列`相同`类型元素组成的数组集合。数组中的每个元素都占有大小相同的内存块。\n",
    "- `ndarray`对象采用了数组的`索引机制`，将数组中的每个元素映射到内存块上，并且按照一定的布局对内存块进行排列。\n",
    "\n"
   ]
  },
  {
   "cell_type": "code",
   "execution_count": 1,
   "id": "f6bdf8c8",
   "metadata": {},
   "outputs": [],
   "source": [
    "import numpy as np"
   ]
  },
  {
   "cell_type": "markdown",
   "id": "429cfc06",
   "metadata": {},
   "source": [
    "# numpy创建数组\n",
    "\n",
    "```python\n",
    "numpy.array(object, dtype = None, copy = True, Order = None, subok = False, ndmin = 0)\n",
    "```\n",
    "\n",
    "参数：\n",
    "\n",
    "| 序号 | 参数   | 描述说明                                                     |\n",
    "| ---- | ------ | :----------------------------------------------------------- |\n",
    "| 1    | object | 表示一个数组序列                                             |\n",
    "| 2    | dtype  | 可选参数，通过它可以改变数组的数据类型                       |\n",
    "| 3    | copy   | 可选，当数据源是ndarray是表示数组能否被复制，默认是True                  |\n",
    "| 4    | Order  | 可选，以哪种内存布局创建数组，有3个可选值，分别是C（行序列）/F（列序列）/A（默认） |\n",
    "| 5    | ndmin  | 可选，用于指定数组维数                                       |\n",
    "| 6    | subok  | 可选，类型为bool，默认为False。为True时，使用object的内部数据类型；为False时，使用object数组的数据类型。 |\n",
    "\n"
   ]
  },
  {
   "cell_type": "code",
   "execution_count": 2,
   "id": "80e0e2d4",
   "metadata": {},
   "outputs": [
    {
     "data": {
      "text/plain": [
       "array([1, 2, 3, 4, 5])"
      ]
     },
     "execution_count": 2,
     "metadata": {},
     "output_type": "execute_result"
    }
   ],
   "source": [
    "np.array([1,2,3,4,5])"
   ]
  },
  {
   "cell_type": "code",
   "execution_count": 3,
   "id": "23765c8e",
   "metadata": {},
   "outputs": [
    {
     "data": {
      "text/plain": [
       "numpy.ndarray"
      ]
     },
     "execution_count": 3,
     "metadata": {},
     "output_type": "execute_result"
    }
   ],
   "source": [
    "type(np.array([1,2,3,4,5]))"
   ]
  },
  {
   "cell_type": "code",
   "execution_count": 4,
   "id": "2a5f53db",
   "metadata": {},
   "outputs": [
    {
     "data": {
      "text/plain": [
       "array([1, 2, 3, 4, 5])"
      ]
     },
     "execution_count": 4,
     "metadata": {},
     "output_type": "execute_result"
    }
   ],
   "source": [
    "np.array((1,2,3,4,5)) # 元组"
   ]
  },
  {
   "cell_type": "code",
   "execution_count": 5,
   "id": "1dfd0e04",
   "metadata": {},
   "outputs": [
    {
     "data": {
      "text/plain": [
       "numpy.ndarray"
      ]
     },
     "execution_count": 5,
     "metadata": {},
     "output_type": "execute_result"
    }
   ],
   "source": [
    "type(np.array((1,2,3,4,5)))"
   ]
  },
  {
   "cell_type": "code",
   "execution_count": 6,
   "id": "7f23e737",
   "metadata": {},
   "outputs": [
    {
     "data": {
      "text/plain": [
       "array([1, 2, 3, 4, 5])"
      ]
     },
     "execution_count": 6,
     "metadata": {},
     "output_type": "execute_result"
    }
   ],
   "source": [
    "a = np.array([1,2,3,4,5])\n",
    "\n",
    "b = np.array(a)\n",
    "\n",
    "b"
   ]
  },
  {
   "cell_type": "code",
   "execution_count": 7,
   "id": "87ef2972",
   "metadata": {},
   "outputs": [
    {
     "data": {
      "text/plain": [
       "array([0, 1, 2, 3, 4, 5, 6, 7, 8, 9])"
      ]
     },
     "execution_count": 7,
     "metadata": {},
     "output_type": "execute_result"
    }
   ],
   "source": [
    "np.array(range(10))"
   ]
  },
  {
   "cell_type": "code",
   "execution_count": 8,
   "id": "51ee4c3b",
   "metadata": {},
   "outputs": [
    {
     "data": {
      "text/plain": [
       "array([ 0,  1,  4,  9, 16, 25, 36, 49, 64, 81])"
      ]
     },
     "execution_count": 8,
     "metadata": {},
     "output_type": "execute_result"
    }
   ],
   "source": [
    "np.array([i**2 for i in range(10)]) # 里面是列表"
   ]
  },
  {
   "cell_type": "code",
   "execution_count": 9,
   "id": "555b4a49",
   "metadata": {},
   "outputs": [
    {
     "data": {
      "text/plain": [
       "array([0, 2, 4, 6, 8])"
      ]
     },
     "execution_count": 9,
     "metadata": {},
     "output_type": "execute_result"
    }
   ],
   "source": [
    "# 创建10以内的偶数的数组\n",
    "np.array([i for i in range(10) if i%2 == 0])"
   ]
  },
  {
   "cell_type": "code",
   "execution_count": 10,
   "id": "ca456bbf",
   "metadata": {},
   "outputs": [
    {
     "data": {
      "text/plain": [
       "array([ 0,  2,  4,  6,  8, 10])"
      ]
     },
     "execution_count": 10,
     "metadata": {},
     "output_type": "execute_result"
    }
   ],
   "source": [
    "# 第二种做法\n",
    "np.array(range(0,11,2))"
   ]
  },
  {
   "cell_type": "code",
   "execution_count": 11,
   "id": "5e091abc",
   "metadata": {},
   "outputs": [
    {
     "data": {
      "text/plain": [
       "array(['1', '1.4', '5'], dtype='<U32')"
      ]
     },
     "execution_count": 11,
     "metadata": {},
     "output_type": "execute_result"
    }
   ],
   "source": [
    "np.array([1,1.4,'5'])"
   ]
  },
  {
   "cell_type": "code",
   "execution_count": 12,
   "id": "8f495482",
   "metadata": {},
   "outputs": [
    {
     "data": {
      "text/plain": [
       "array([['1', 'b', '3'],\n",
       "       ['1', 'b', '3']], dtype='<U21')"
      ]
     },
     "execution_count": 12,
     "metadata": {},
     "output_type": "execute_result"
    }
   ],
   "source": [
    "# 二维数组(可以嵌套，列表元组都可以)\n",
    "np.array([\n",
    "    [1,'b',3],\n",
    "    ('1','b','3')\n",
    "])"
   ]
  },
  {
   "cell_type": "code",
   "execution_count": 15,
   "id": "90c6947c",
   "metadata": {},
   "outputs": [],
   "source": [
    "# 注意嵌套序列数量不一会怎么样\n",
    "ar4 = np.array([[1,2,3],[1,2,3]]) "
   ]
  },
  {
   "cell_type": "code",
   "execution_count": 16,
   "id": "d664c9e3",
   "metadata": {},
   "outputs": [
    {
     "data": {
      "text/plain": [
       "array([[1, 2, 3],\n",
       "       [1, 2, 3]])"
      ]
     },
     "execution_count": 16,
     "metadata": {},
     "output_type": "execute_result"
    }
   ],
   "source": [
    "ar4"
   ]
  },
  {
   "cell_type": "code",
   "execution_count": 17,
   "id": "d94a638f",
   "metadata": {},
   "outputs": [
    {
     "data": {
      "text/plain": [
       "(2, 3)"
      ]
     },
     "execution_count": 17,
     "metadata": {},
     "output_type": "execute_result"
    }
   ],
   "source": [
    "ar4.shape"
   ]
  },
  {
   "cell_type": "markdown",
   "id": "85fd002b",
   "metadata": {},
   "source": [
    " 1. 设置dtype参数，默认自动识别"
   ]
  },
  {
   "cell_type": "code",
   "execution_count": 18,
   "id": "aa9b5b40",
   "metadata": {},
   "outputs": [
    {
     "data": {
      "text/plain": [
       "array([1, 2, 3, 4, 5])"
      ]
     },
     "execution_count": 18,
     "metadata": {},
     "output_type": "execute_result"
    }
   ],
   "source": [
    "a = np.array([1,2,3,4,5])\n",
    "a"
   ]
  },
  {
   "cell_type": "code",
   "execution_count": 19,
   "id": "857338e8",
   "metadata": {},
   "outputs": [
    {
     "data": {
      "text/plain": [
       "array([1., 2., 3., 4., 5.])"
      ]
     },
     "execution_count": 19,
     "metadata": {},
     "output_type": "execute_result"
    }
   ],
   "source": [
    "a_dtype = np.array(a, dtype = 'float')\n",
    "a_dtype"
   ]
  },
  {
   "cell_type": "markdown",
   "id": "675111bd",
   "metadata": {},
   "source": [
    "## 思考如何将浮点型的数据，设置为整形，会是什么情况？"
   ]
  },
  {
   "cell_type": "code",
   "execution_count": 20,
   "id": "c039e4b3",
   "metadata": {},
   "outputs": [
    {
     "data": {
      "text/plain": [
       "array([1, 2, 3, 1])"
      ]
     },
     "execution_count": 20,
     "metadata": {},
     "output_type": "execute_result"
    }
   ],
   "source": [
    "np.array([1.1,2.2,3,1.2], dtype = 'int')"
   ]
  },
  {
   "cell_type": "markdown",
   "id": "51631ec6",
   "metadata": {},
   "source": [
    " 2.设置copy参数,默认为True"
   ]
  },
  {
   "cell_type": "code",
   "execution_count": 21,
   "id": "ff9bf818",
   "metadata": {},
   "outputs": [],
   "source": [
    "a = np.array([1,2,3,4,5])\n",
    "b = np.array(a)"
   ]
  },
  {
   "cell_type": "code",
   "execution_count": 25,
   "id": "3891d931",
   "metadata": {},
   "outputs": [
    {
     "name": "stdout",
     "output_type": "stream",
     "text": [
      "a: 4884481680 b: 4884480816\n"
     ]
    }
   ],
   "source": [
    "print('a:',id(a),'b:',id(b))"
   ]
  },
  {
   "cell_type": "code",
   "execution_count": 26,
   "id": "8cdd9aaf",
   "metadata": {},
   "outputs": [
    {
     "name": "stdout",
     "output_type": "stream",
     "text": [
      "a: 4887070256   b: 4887070256\n",
      "以上看出a和b的内存地址\n",
      "a: [10  2  3  4  5]   b: [10  2  3  4  5]\n"
     ]
    }
   ],
   "source": [
    "a = np.array([1,2,3,4,5])\n",
    "# 定义b，当设置copy参数为Fasle时，不会创建副本，\n",
    "# 两个变量会指向相同的内容地址，没有创建新的对象\n",
    "b = np.array(a, copy=False)\n",
    "# 输出a和b的id\n",
    "print('a:', id(a), '  b:', id(b))\n",
    "print('以上看出a和b的内存地址')\n",
    "# 由于a和b指向的是相同的内存地址，因此当修改b的元素时，a会发生变化\n",
    "b[0] = 10\n",
    "print('a:',a,'  b:',b)"
   ]
  },
  {
   "cell_type": "markdown",
   "id": "f402f38f",
   "metadata": {},
   "source": [
    "当默认为True时，表明是独立的复制，而不是引用；\n",
    "为False时，表明是引用"
   ]
  },
  {
   "cell_type": "markdown",
   "id": "628631fe",
   "metadata": {},
   "source": [
    "3. ndmin 用于指定数组的维度"
   ]
  },
  {
   "cell_type": "code",
   "execution_count": 27,
   "id": "b33aab3f",
   "metadata": {},
   "outputs": [
    {
     "data": {
      "text/plain": [
       "array([1, 2, 3])"
      ]
     },
     "execution_count": 27,
     "metadata": {},
     "output_type": "execute_result"
    }
   ],
   "source": [
    "a = np.array([1,2,3])\n",
    "a"
   ]
  },
  {
   "cell_type": "code",
   "execution_count": 28,
   "id": "a7560734",
   "metadata": {},
   "outputs": [
    {
     "data": {
      "text/plain": [
       "array([[1, 2, 3]])"
      ]
     },
     "execution_count": 28,
     "metadata": {},
     "output_type": "execute_result"
    }
   ],
   "source": [
    "b = np.array(a, ndmin = 2)\n",
    "b"
   ]
  },
  {
   "cell_type": "markdown",
   "id": "3d5b76df",
   "metadata": {},
   "source": [
    "4.subok参数，类型为bool值，默认False。为True，使用object的内部数据类型；False：使用object数组的数据类型。"
   ]
  },
  {
   "cell_type": "code",
   "execution_count": 29,
   "id": "69c35a42",
   "metadata": {},
   "outputs": [
    {
     "name": "stdout",
     "output_type": "stream",
     "text": [
      "<class 'numpy.matrix'>\n",
      "at,subok为True: <class 'numpy.matrix'>\n",
      "af,subok为False: <class 'numpy.ndarray'>\n",
      "4878398912 4878398656\n"
     ]
    }
   ],
   "source": [
    "# 创建一个矩阵\n",
    "a = np.mat([1,2,3,4])\n",
    "# 输出为矩阵类型\n",
    "print(type(a))\n",
    "\n",
    "#既要复制一份副本，又要保持原类型\n",
    "at = np.array(a,subok=True)\n",
    "af = np.array(a)  # 默认为False\n",
    "print('at,subok为True:',type(at))\n",
    "print('af,subok为False:',type(af))\n",
    "print(id(at),id(a))\n"
   ]
  },
  {
   "cell_type": "code",
   "execution_count": 30,
   "id": "134e898c",
   "metadata": {},
   "outputs": [
    {
     "name": "stdout",
     "output_type": "stream",
     "text": [
      "4883697712 4885630000\n"
     ]
    }
   ],
   "source": [
    "a = np.array([1,2,3,4])\n",
    "c = a.copy() # copy使用的多一点\n",
    "print(id(a),id(c))"
   ]
  },
  {
   "cell_type": "markdown",
   "id": "a37be44a",
   "metadata": {},
   "source": [
    "\n",
    "# arange()生成区间数组\n",
    "根据 start 与 stop 指定的范围以及 step 设定的步长，生成一个 ndarray。\n",
    "\n",
    "```python\n",
    "numpy.arange(start, stop, step, dtype)\n",
    "```\n",
    "参数说明   \n",
    "\n",
    "| 序号 | 参数 | 描述说明 |\n",
    "| :--- | :--- | :--- |\n",
    "| 1      | start| 起始值，默认为0   |\n",
    "| 2   | stop | 终止值（不包含）        |\n",
    "| 3      | step | 步长，默认为1        |\n",
    "| 4      | dtype |  返回ndarray的数据类型，如果没有提供，则会使用输入数据的类型。     |"
   ]
  },
  {
   "cell_type": "code",
   "execution_count": 31,
   "id": "0852c552",
   "metadata": {},
   "outputs": [
    {
     "data": {
      "text/plain": [
       "array([0, 1, 2, 3, 4, 5, 6, 7, 8, 9])"
      ]
     },
     "execution_count": 31,
     "metadata": {},
     "output_type": "execute_result"
    }
   ],
   "source": [
    "np.arange(10)"
   ]
  },
  {
   "cell_type": "code",
   "execution_count": 32,
   "id": "a9a9b749",
   "metadata": {},
   "outputs": [
    {
     "data": {
      "text/plain": [
       "array([0., 1., 2., 3.])"
      ]
     },
     "execution_count": 32,
     "metadata": {},
     "output_type": "execute_result"
    }
   ],
   "source": [
    "np.arange(3.1)"
   ]
  },
  {
   "cell_type": "code",
   "execution_count": 34,
   "id": "a3af1f2b",
   "metadata": {},
   "outputs": [
    {
     "data": {
      "text/plain": [
       "range(0, 3)"
      ]
     },
     "execution_count": 34,
     "metadata": {},
     "output_type": "execute_result"
    }
   ],
   "source": [
    "range(3)"
   ]
  },
  {
   "cell_type": "code",
   "execution_count": 35,
   "id": "76641851",
   "metadata": {},
   "outputs": [
    {
     "data": {
      "text/plain": [
       "array([0., 1., 2., 3.])"
      ]
     },
     "execution_count": 35,
     "metadata": {},
     "output_type": "execute_result"
    }
   ],
   "source": [
    "np.arange(4,dtype = 'float')"
   ]
  },
  {
   "cell_type": "code",
   "execution_count": 36,
   "id": "7850a889",
   "metadata": {},
   "outputs": [
    {
     "data": {
      "text/plain": [
       "array([10, 12, 14, 16, 18, 20, 22, 24, 26, 28, 30, 32, 34, 36, 38, 40, 42,\n",
       "       44, 46, 48, 50, 52, 54, 56, 58, 60, 62, 64, 66, 68, 70, 72, 74, 76,\n",
       "       78, 80, 82, 84, 86, 88, 90, 92, 94, 96, 98])"
      ]
     },
     "execution_count": 36,
     "metadata": {},
     "output_type": "execute_result"
    }
   ],
   "source": [
    "np.arange(10,100,2)"
   ]
  },
  {
   "cell_type": "code",
   "execution_count": 37,
   "id": "7a82f547",
   "metadata": {},
   "outputs": [
    {
     "data": {
      "text/plain": [
       "array([    0,     1,     2, ..., 99997, 99998, 99999])"
      ]
     },
     "execution_count": 37,
     "metadata": {},
     "output_type": "execute_result"
    }
   ],
   "source": [
    "np.arange(100000) # 只打印边边角角"
   ]
  },
  {
   "cell_type": "code",
   "execution_count": 38,
   "id": "44b128a8",
   "metadata": {},
   "outputs": [
    {
     "data": {
      "text/plain": [
       "array([ 0,  3,  6,  9, 12, 15, 18])"
      ]
     },
     "execution_count": 38,
     "metadata": {},
     "output_type": "execute_result"
    }
   ],
   "source": [
    "np.arange(20,step = 3)"
   ]
  },
  {
   "cell_type": "code",
   "execution_count": 40,
   "id": "4e0f2e36",
   "metadata": {},
   "outputs": [],
   "source": [
    "arr = np.arange(200+1,step = 3)"
   ]
  },
  {
   "cell_type": "code",
   "execution_count": 42,
   "id": "265a3e3f",
   "metadata": {},
   "outputs": [
    {
     "data": {
      "text/plain": [
       "67"
      ]
     },
     "execution_count": 42,
     "metadata": {},
     "output_type": "execute_result"
    }
   ],
   "source": [
    "len(arr)"
   ]
  },
  {
   "cell_type": "markdown",
   "id": "fc801c05",
   "metadata": {},
   "source": [
    "## 如何防止 float 不精确影响numpy.arange\n",
    "> <font color=red>注意：ceil((stop - start)/step)确定项目数，小浮点不精确(stop = .400000001)可以向列表中添加意外值。</font>\n",
    "#### 想得到一个长度为3的、从0.1开始的、间隔为0.1的数组，想当然地如下coding，结果意料之外："
   ]
  },
  {
   "cell_type": "code",
   "execution_count": 44,
   "id": "a32e0ba1",
   "metadata": {},
   "outputs": [
    {
     "data": {
      "text/plain": [
       "array([0.1, 0.2, 0.3, 0.4])"
      ]
     },
     "execution_count": 44,
     "metadata": {},
     "output_type": "execute_result"
    }
   ],
   "source": [
    "np.arange(0.1,0.5,0.1)"
   ]
  },
  {
   "cell_type": "code",
   "execution_count": null,
   "id": "a1a19df1",
   "metadata": {},
   "outputs": [],
   "source": []
  }
 ],
 "metadata": {
  "kernelspec": {
   "display_name": "Python(numpy_learning)",
   "language": "python",
   "name": "numpy_learning"
  },
  "language_info": {
   "codemirror_mode": {
    "name": "ipython",
    "version": 3
   },
   "file_extension": ".py",
   "mimetype": "text/x-python",
   "name": "python",
   "nbconvert_exporter": "python",
   "pygments_lexer": "ipython3",
   "version": "3.8.17"
  }
 },
 "nbformat": 4,
 "nbformat_minor": 5
}
